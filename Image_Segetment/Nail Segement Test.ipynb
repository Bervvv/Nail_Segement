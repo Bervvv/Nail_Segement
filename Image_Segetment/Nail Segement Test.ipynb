{
 "cells": [
  {
   "cell_type": "code",
   "execution_count": 1,
   "metadata": {},
   "outputs": [],
   "source": [
    "# Develop by Bolin \n",
    "# Date: Aug 16, 2021"
   ]
  },
  {
   "cell_type": "code",
   "execution_count": 56,
   "metadata": {},
   "outputs": [],
   "source": [
    "import paddle\n",
    "import paddleseg.transforms as T\n",
    "from paddleseg.models import BiSeNetV2\n",
    "from paddleseg.datasets import OpticDiscSeg\n",
    "from paddleseg.models.losses import CrossEntropyLoss\n",
    "from paddleseg.core import train\n",
    "import os"
   ]
  },
  {
   "cell_type": "markdown",
   "metadata": {},
   "source": [
    "# 模型训练"
   ]
  },
  {
   "cell_type": "markdown",
   "metadata": {},
   "source": [
    "## 1. 构建模型"
   ]
  },
  {
   "cell_type": "code",
   "execution_count": 57,
   "metadata": {},
   "outputs": [],
   "source": [
    "model = BiSeNetV2(num_classes=2,\n",
    "                 lambd=0.25,\n",
    "                 align_corners=False,\n",
    "                 pretrained=None)"
   ]
  },
  {
   "cell_type": "markdown",
   "metadata": {},
   "source": [
    "## 2. 构建训练集及数据预处理流程"
   ]
  },
  {
   "cell_type": "markdown",
   "metadata": {},
   "source": [
    "### 数据准备"
   ]
  },
  {
   "cell_type": "code",
   "execution_count": 58,
   "metadata": {},
   "outputs": [],
   "source": [
    "# 构建训练用的数据增强和预处理\n",
    "transforms = [\n",
    "    T.Resize(target_size=(100, 100)),\n",
    "    T.RandomHorizontalFlip(),\n",
    "    T.Normalize()\n",
    "]\n",
    "\n",
    "# 构建训练集\n",
    "train_dataset = OpticDiscSeg(\n",
    "    dataset_root='data/outputs',\n",
    "    transforms=transforms,\n",
    "    mode='train'\n",
    ")"
   ]
  },
  {
   "cell_type": "markdown",
   "metadata": {},
   "source": [
    "### 数据增强"
   ]
  },
  {
   "cell_type": "code",
   "execution_count": null,
   "metadata": {},
   "outputs": [],
   "source": []
  },
  {
   "cell_type": "markdown",
   "metadata": {},
   "source": [
    "## 3. 构建验证集及数据预处理流程"
   ]
  },
  {
   "cell_type": "code",
   "execution_count": 59,
   "metadata": {},
   "outputs": [],
   "source": [
    "# 构建验证用的数据增强和预处理\n",
    "transforms = [\n",
    "    T.Resize(target_size=(100, 100)),\n",
    "    T.Normalize()\n",
    "]\n",
    "\n",
    "# 构建验证集\n",
    "val_dataset = OpticDiscSeg(\n",
    "    dataset_root='data/outputs',\n",
    "    transforms=transforms,\n",
    "    mode='val'\n",
    ")"
   ]
  },
  {
   "cell_type": "markdown",
   "metadata": {},
   "source": [
    "## 4. 构建优化器"
   ]
  },
  {
   "cell_type": "code",
   "execution_count": 60,
   "metadata": {},
   "outputs": [],
   "source": [
    "# 设置学习率\n",
    "base_lr = 0.01\n",
    "lr = paddle.optimizer.lr.PolynomialDecay(base_lr, power=0.9, decay_steps=1000, end_lr=0)\n",
    "\n",
    "optimizer = paddle.optimizer.Momentum(lr, parameters=model.parameters(), momentum=0.9, weight_decay=4.0e-5)"
   ]
  },
  {
   "cell_type": "markdown",
   "metadata": {},
   "source": [
    "## 5. 构建损失函数"
   ]
  },
  {
   "cell_type": "code",
   "execution_count": 61,
   "metadata": {},
   "outputs": [],
   "source": [
    "losses = {}\n",
    "losses['types'] = [CrossEntropyLoss()] * 5\n",
    "losses['coef'] = [1]* 5"
   ]
  },
  {
   "cell_type": "markdown",
   "metadata": {},
   "source": [
    "## 6. 训练"
   ]
  },
  {
   "cell_type": "code",
   "execution_count": 62,
   "metadata": {
    "scrolled": false
   },
   "outputs": [
    {
     "name": "stdout",
     "output_type": "stream",
     "text": [
      "2021-08-16 00:45:58 [INFO]\t[TRAIN] epoch: 1, iter: 10/1000, loss: 2.5609, lr: 0.009919, batch_cost: 0.6814, reader_cost: 0.01088, ips: 11.7412 samples/sec | ETA 00:11:14\n",
      "2021-08-16 00:46:05 [INFO]\t[TRAIN] epoch: 1, iter: 20/1000, loss: 1.2298, lr: 0.009829, batch_cost: 0.7177, reader_cost: 0.00010, ips: 11.1470 samples/sec | ETA 00:11:43\n",
      "2021-08-16 00:46:13 [INFO]\t[TRAIN] epoch: 1, iter: 30/1000, loss: 0.8805, lr: 0.009739, batch_cost: 0.7859, reader_cost: 0.00012, ips: 10.1800 samples/sec | ETA 00:12:42\n",
      "2021-08-16 00:46:23 [INFO]\t[TRAIN] epoch: 1, iter: 40/1000, loss: 0.8304, lr: 0.009648, batch_cost: 1.0464, reader_cost: 0.00023, ips: 7.6454 samples/sec | ETA 00:16:44\n",
      "2021-08-16 00:46:30 [INFO]\t[TRAIN] epoch: 1, iter: 50/1000, loss: 0.7192, lr: 0.009558, batch_cost: 0.6200, reader_cost: 0.00012, ips: 12.9025 samples/sec | ETA 00:09:49\n",
      "2021-08-16 00:46:37 [INFO]\t[TRAIN] epoch: 2, iter: 60/1000, loss: 0.6447, lr: 0.009467, batch_cost: 0.7602, reader_cost: 0.00386, ips: 10.5236 samples/sec | ETA 00:11:54\n",
      "2021-08-16 00:46:44 [INFO]\t[TRAIN] epoch: 2, iter: 70/1000, loss: 0.6114, lr: 0.009377, batch_cost: 0.6310, reader_cost: 0.00011, ips: 12.6791 samples/sec | ETA 00:09:46\n",
      "2021-08-16 00:46:50 [INFO]\t[TRAIN] epoch: 2, iter: 80/1000, loss: 0.6015, lr: 0.009286, batch_cost: 0.6316, reader_cost: 0.00009, ips: 12.6664 samples/sec | ETA 00:09:41\n",
      "2021-08-16 00:46:56 [INFO]\t[TRAIN] epoch: 2, iter: 90/1000, loss: 0.5867, lr: 0.009195, batch_cost: 0.6523, reader_cost: 0.00012, ips: 12.2638 samples/sec | ETA 00:09:53\n",
      "2021-08-16 00:47:04 [INFO]\t[TRAIN] epoch: 2, iter: 100/1000, loss: 0.5359, lr: 0.009104, batch_cost: 0.7609, reader_cost: 0.00012, ips: 10.5145 samples/sec | ETA 00:11:24\n",
      "2021-08-16 00:47:04 [INFO]\tStart evaluating (total_samples: 50, total_iters: 50)...\n"
     ]
    },
    {
     "name": "stderr",
     "output_type": "stream",
     "text": [
      "50/50 [==============================] - 4s 72ms/step - batch_cost: 0.0710 - reader cost: 3.5750e-04\n"
     ]
    },
    {
     "name": "stdout",
     "output_type": "stream",
     "text": [
      "2021-08-16 00:47:08 [INFO]\t[EVAL] #Images: 50 mIoU: 0.8845 Acc: 0.9698 Kappa: 0.8736 \n",
      "2021-08-16 00:47:08 [INFO]\t[EVAL] Class IoU: \n",
      "[0.9655 0.8035]\n",
      "2021-08-16 00:47:08 [INFO]\t[EVAL] Class Acc: \n",
      "[0.9729 0.9492]\n",
      "2021-08-16 00:47:08 [INFO]\t[EVAL] The model with the best validation mIoU (0.8845) was saved at iter 100.\n",
      "2021-08-16 00:47:17 [INFO]\t[TRAIN] epoch: 2, iter: 110/1000, loss: 0.5240, lr: 0.009013, batch_cost: 0.8820, reader_cost: 0.00009, ips: 9.0707 samples/sec | ETA 00:13:04\n",
      "2021-08-16 00:47:24 [INFO]\t[TRAIN] epoch: 3, iter: 120/1000, loss: 0.5020, lr: 0.008922, batch_cost: 0.7263, reader_cost: 0.01246, ips: 11.0146 samples/sec | ETA 00:10:39\n",
      "2021-08-16 00:47:31 [INFO]\t[TRAIN] epoch: 3, iter: 130/1000, loss: 0.4721, lr: 0.008831, batch_cost: 0.7063, reader_cost: 0.00011, ips: 11.3268 samples/sec | ETA 00:10:14\n",
      "2021-08-16 00:47:37 [INFO]\t[TRAIN] epoch: 3, iter: 140/1000, loss: 0.4690, lr: 0.008740, batch_cost: 0.6403, reader_cost: 0.00009, ips: 12.4939 samples/sec | ETA 00:09:10\n",
      "2021-08-16 00:47:44 [INFO]\t[TRAIN] epoch: 3, iter: 150/1000, loss: 0.4612, lr: 0.008648, batch_cost: 0.6282, reader_cost: 0.00012, ips: 12.7350 samples/sec | ETA 00:08:53\n",
      "2021-08-16 00:47:51 [INFO]\t[TRAIN] epoch: 3, iter: 160/1000, loss: 0.4934, lr: 0.008557, batch_cost: 0.7706, reader_cost: 0.00009, ips: 10.3810 samples/sec | ETA 00:10:47\n",
      "2021-08-16 00:47:58 [INFO]\t[TRAIN] epoch: 4, iter: 170/1000, loss: 0.4531, lr: 0.008465, batch_cost: 0.6975, reader_cost: 0.00355, ips: 11.4697 samples/sec | ETA 00:09:38\n",
      "2021-08-16 00:48:05 [INFO]\t[TRAIN] epoch: 4, iter: 180/1000, loss: 0.4226, lr: 0.008374, batch_cost: 0.6569, reader_cost: 0.00011, ips: 12.1777 samples/sec | ETA 00:08:58\n",
      "2021-08-16 00:48:11 [INFO]\t[TRAIN] epoch: 4, iter: 190/1000, loss: 0.4475, lr: 0.008282, batch_cost: 0.6053, reader_cost: 0.00010, ips: 13.2173 samples/sec | ETA 00:08:10\n",
      "2021-08-16 00:48:17 [INFO]\t[TRAIN] epoch: 4, iter: 200/1000, loss: 0.4082, lr: 0.008190, batch_cost: 0.6207, reader_cost: 0.00010, ips: 12.8892 samples/sec | ETA 00:08:16\n",
      "2021-08-16 00:48:17 [INFO]\tStart evaluating (total_samples: 50, total_iters: 50)...\n"
     ]
    },
    {
     "name": "stderr",
     "output_type": "stream",
     "text": [
      "50/50 [==============================] - 3s 58ms/step - batch_cost: 0.0571 - reader cost: 3.4069e-04\n"
     ]
    },
    {
     "name": "stdout",
     "output_type": "stream",
     "text": [
      "2021-08-16 00:48:20 [INFO]\t[EVAL] #Images: 50 mIoU: 0.8594 Acc: 0.9642 Kappa: 0.8429 \n",
      "2021-08-16 00:48:20 [INFO]\t[EVAL] Class IoU: \n",
      "[0.9596 0.7592]\n",
      "2021-08-16 00:48:20 [INFO]\t[EVAL] Class Acc: \n",
      "[0.9615 0.9847]\n",
      "2021-08-16 00:48:20 [INFO]\t[EVAL] The model with the best validation mIoU (0.8845) was saved at iter 100.\n",
      "2021-08-16 00:48:27 [INFO]\t[TRAIN] epoch: 4, iter: 210/1000, loss: 0.4299, lr: 0.008098, batch_cost: 0.6669, reader_cost: 0.00011, ips: 11.9951 samples/sec | ETA 00:08:46\n",
      "2021-08-16 00:48:34 [INFO]\t[TRAIN] epoch: 4, iter: 220/1000, loss: 0.4212, lr: 0.008005, batch_cost: 0.6810, reader_cost: 0.00009, ips: 11.7481 samples/sec | ETA 00:08:51\n",
      "2021-08-16 00:48:40 [INFO]\t[TRAIN] epoch: 5, iter: 230/1000, loss: 0.4001, lr: 0.007913, batch_cost: 0.6273, reader_cost: 0.00409, ips: 12.7532 samples/sec | ETA 00:08:03\n",
      "2021-08-16 00:48:46 [INFO]\t[TRAIN] epoch: 5, iter: 240/1000, loss: 0.4103, lr: 0.007821, batch_cost: 0.6523, reader_cost: 0.00010, ips: 12.2634 samples/sec | ETA 00:08:15\n",
      "2021-08-16 00:48:53 [INFO]\t[TRAIN] epoch: 5, iter: 250/1000, loss: 0.3912, lr: 0.007728, batch_cost: 0.6346, reader_cost: 0.00012, ips: 12.6073 samples/sec | ETA 00:07:55\n",
      "2021-08-16 00:48:59 [INFO]\t[TRAIN] epoch: 5, iter: 260/1000, loss: 0.4050, lr: 0.007635, batch_cost: 0.6414, reader_cost: 0.00009, ips: 12.4719 samples/sec | ETA 00:07:54\n",
      "2021-08-16 00:49:06 [INFO]\t[TRAIN] epoch: 5, iter: 270/1000, loss: 0.3962, lr: 0.007543, batch_cost: 0.6597, reader_cost: 0.00012, ips: 12.1269 samples/sec | ETA 00:08:01\n",
      "2021-08-16 00:49:12 [INFO]\t[TRAIN] epoch: 6, iter: 280/1000, loss: 0.3714, lr: 0.007450, batch_cost: 0.6189, reader_cost: 0.00361, ips: 12.9252 samples/sec | ETA 00:07:25\n",
      "2021-08-16 00:49:20 [INFO]\t[TRAIN] epoch: 6, iter: 290/1000, loss: 0.3772, lr: 0.007357, batch_cost: 0.8332, reader_cost: 0.00189, ips: 9.6020 samples/sec | ETA 00:09:51\n",
      "2021-08-16 00:49:29 [INFO]\t[TRAIN] epoch: 6, iter: 300/1000, loss: 0.3806, lr: 0.007264, batch_cost: 0.8613, reader_cost: 0.00014, ips: 9.2884 samples/sec | ETA 00:10:02\n",
      "2021-08-16 00:49:29 [INFO]\tStart evaluating (total_samples: 50, total_iters: 50)...\n"
     ]
    },
    {
     "name": "stderr",
     "output_type": "stream",
     "text": [
      "50/50 [==============================] - 4s 84ms/step - batch_cost: 0.0823 - reader cost: 7.0038e-04: 1s - batch_cost: 0.0721 - r\n"
     ]
    },
    {
     "name": "stdout",
     "output_type": "stream",
     "text": [
      "2021-08-16 00:49:33 [INFO]\t[EVAL] #Images: 50 mIoU: 0.8849 Acc: 0.9705 Kappa: 0.8740 \n",
      "2021-08-16 00:49:33 [INFO]\t[EVAL] Class IoU: \n",
      "[0.9664 0.8034]\n",
      "2021-08-16 00:49:33 [INFO]\t[EVAL] Class Acc: \n",
      "[0.9699 0.9741]\n",
      "2021-08-16 00:49:33 [INFO]\t[EVAL] The model with the best validation mIoU (0.8849) was saved at iter 300.\n",
      "2021-08-16 00:49:48 [INFO]\t[TRAIN] epoch: 6, iter: 310/1000, loss: 0.3790, lr: 0.007170, batch_cost: 1.4857, reader_cost: 0.00036, ips: 5.3846 samples/sec | ETA 00:17:05\n",
      "2021-08-16 00:50:01 [INFO]\t[TRAIN] epoch: 6, iter: 320/1000, loss: 0.3798, lr: 0.007077, batch_cost: 1.3064, reader_cost: 0.00021, ips: 6.1236 samples/sec | ETA 00:14:48\n",
      "2021-08-16 00:50:12 [INFO]\t[TRAIN] epoch: 6, iter: 330/1000, loss: 0.3547, lr: 0.006983, batch_cost: 1.0643, reader_cost: 0.00010, ips: 7.5164 samples/sec | ETA 00:11:53\n",
      "2021-08-16 00:50:18 [INFO]\t[TRAIN] epoch: 7, iter: 340/1000, loss: 0.3596, lr: 0.006889, batch_cost: 0.6458, reader_cost: 0.00375, ips: 12.3868 samples/sec | ETA 00:07:06\n",
      "2021-08-16 00:50:26 [INFO]\t[TRAIN] epoch: 7, iter: 350/1000, loss: 0.3486, lr: 0.006796, batch_cost: 0.7305, reader_cost: 0.00009, ips: 10.9510 samples/sec | ETA 00:07:54\n",
      "2021-08-16 00:50:33 [INFO]\t[TRAIN] epoch: 7, iter: 360/1000, loss: 0.3455, lr: 0.006702, batch_cost: 0.6892, reader_cost: 0.00009, ips: 11.6079 samples/sec | ETA 00:07:21\n",
      "2021-08-16 00:50:39 [INFO]\t[TRAIN] epoch: 7, iter: 370/1000, loss: 0.3511, lr: 0.006607, batch_cost: 0.6639, reader_cost: 0.00012, ips: 12.0509 samples/sec | ETA 00:06:58\n",
      "2021-08-16 00:50:47 [INFO]\t[TRAIN] epoch: 7, iter: 380/1000, loss: 0.3858, lr: 0.006513, batch_cost: 0.7957, reader_cost: 0.00010, ips: 10.0538 samples/sec | ETA 00:08:13\n",
      "2021-08-16 00:50:55 [INFO]\t[TRAIN] epoch: 8, iter: 390/1000, loss: 0.3242, lr: 0.006419, batch_cost: 0.8272, reader_cost: 0.00246, ips: 9.6712 samples/sec | ETA 00:08:24\n",
      "2021-08-16 00:51:03 [INFO]\t[TRAIN] epoch: 8, iter: 400/1000, loss: 0.3537, lr: 0.006324, batch_cost: 0.8050, reader_cost: 0.00010, ips: 9.9377 samples/sec | ETA 00:08:03\n",
      "2021-08-16 00:51:03 [INFO]\tStart evaluating (total_samples: 50, total_iters: 50)...\n"
     ]
    },
    {
     "name": "stderr",
     "output_type": "stream",
     "text": [
      "50/50 [==============================] - 3s 62ms/step - batch_cost: 0.0616 - reader cost: 3.7330e-04\n"
     ]
    },
    {
     "name": "stdout",
     "output_type": "stream",
     "text": [
      "2021-08-16 00:51:07 [INFO]\t[EVAL] #Images: 50 mIoU: 0.9083 Acc: 0.9761 Kappa: 0.9016 \n",
      "2021-08-16 00:51:07 [INFO]\t[EVAL] Class IoU: \n",
      "[0.9725 0.8441]\n",
      "2021-08-16 00:51:07 [INFO]\t[EVAL] Class Acc: \n",
      "[0.9797 0.9534]\n",
      "2021-08-16 00:51:07 [INFO]\t[EVAL] The model with the best validation mIoU (0.9083) was saved at iter 400.\n",
      "2021-08-16 00:51:14 [INFO]\t[TRAIN] epoch: 8, iter: 410/1000, loss: 0.3637, lr: 0.006229, batch_cost: 0.7618, reader_cost: 0.00011, ips: 10.5016 samples/sec | ETA 00:07:29\n",
      "2021-08-16 00:51:24 [INFO]\t[TRAIN] epoch: 8, iter: 420/1000, loss: 0.3504, lr: 0.006134, batch_cost: 1.0008, reader_cost: 0.00014, ips: 7.9936 samples/sec | ETA 00:09:40\n",
      "2021-08-16 00:51:32 [INFO]\t[TRAIN] epoch: 8, iter: 430/1000, loss: 0.3422, lr: 0.006039, batch_cost: 0.7425, reader_cost: 0.00011, ips: 10.7746 samples/sec | ETA 00:07:03\n",
      "2021-08-16 00:51:40 [INFO]\t[TRAIN] epoch: 8, iter: 440/1000, loss: 0.3424, lr: 0.005944, batch_cost: 0.8291, reader_cost: 0.00008, ips: 9.6487 samples/sec | ETA 00:07:44\n",
      "2021-08-16 00:51:47 [INFO]\t[TRAIN] epoch: 9, iter: 450/1000, loss: 0.3414, lr: 0.005848, batch_cost: 0.7412, reader_cost: 0.00448, ips: 10.7930 samples/sec | ETA 00:06:47\n",
      "2021-08-16 00:51:58 [INFO]\t[TRAIN] epoch: 9, iter: 460/1000, loss: 0.3489, lr: 0.005753, batch_cost: 1.0827, reader_cost: 0.00012, ips: 7.3891 samples/sec | ETA 00:09:44\n",
      "2021-08-16 00:52:06 [INFO]\t[TRAIN] epoch: 9, iter: 470/1000, loss: 0.3221, lr: 0.005657, batch_cost: 0.7669, reader_cost: 0.00010, ips: 10.4314 samples/sec | ETA 00:06:46\n",
      "2021-08-16 00:52:13 [INFO]\t[TRAIN] epoch: 9, iter: 480/1000, loss: 0.3259, lr: 0.005561, batch_cost: 0.7034, reader_cost: 0.00009, ips: 11.3735 samples/sec | ETA 00:06:05\n",
      "2021-08-16 00:52:20 [INFO]\t[TRAIN] epoch: 9, iter: 490/1000, loss: 0.3450, lr: 0.005465, batch_cost: 0.6638, reader_cost: 0.00009, ips: 12.0522 samples/sec | ETA 00:05:38\n",
      "2021-08-16 00:52:30 [INFO]\t[TRAIN] epoch: 10, iter: 500/1000, loss: 0.3286, lr: 0.005369, batch_cost: 0.9977, reader_cost: 0.00385, ips: 8.0187 samples/sec | ETA 00:08:18\n",
      "2021-08-16 00:52:30 [INFO]\tStart evaluating (total_samples: 50, total_iters: 50)...\n"
     ]
    },
    {
     "name": "stderr",
     "output_type": "stream",
     "text": [
      "50/50 [==============================] - 5s 91ms/step - batch_cost: 0.0902 - reader cost: 4.6646e-04\n"
     ]
    },
    {
     "name": "stdout",
     "output_type": "stream",
     "text": [
      "2021-08-16 00:52:34 [INFO]\t[EVAL] #Images: 50 mIoU: 0.9129 Acc: 0.9774 Kappa: 0.9068 \n",
      "2021-08-16 00:52:34 [INFO]\t[EVAL] Class IoU: \n",
      "[0.9741 0.8517]\n",
      "2021-08-16 00:52:34 [INFO]\t[EVAL] Class Acc: \n",
      "[0.9798 0.9625]\n",
      "2021-08-16 00:52:34 [INFO]\t[EVAL] The model with the best validation mIoU (0.9129) was saved at iter 500.\n",
      "2021-08-16 00:52:42 [INFO]\t[TRAIN] epoch: 10, iter: 510/1000, loss: 0.3452, lr: 0.005272, batch_cost: 0.7643, reader_cost: 0.00011, ips: 10.4674 samples/sec | ETA 00:06:14\n",
      "2021-08-16 00:52:49 [INFO]\t[TRAIN] epoch: 10, iter: 520/1000, loss: 0.3220, lr: 0.005175, batch_cost: 0.7472, reader_cost: 0.00153, ips: 10.7065 samples/sec | ETA 00:05:58\n",
      "2021-08-16 00:52:58 [INFO]\t[TRAIN] epoch: 10, iter: 530/1000, loss: 0.3358, lr: 0.005078, batch_cost: 0.8845, reader_cost: 0.00010, ips: 9.0446 samples/sec | ETA 00:06:55\n",
      "2021-08-16 00:53:05 [INFO]\t[TRAIN] epoch: 10, iter: 540/1000, loss: 0.3255, lr: 0.004981, batch_cost: 0.6834, reader_cost: 0.00008, ips: 11.7057 samples/sec | ETA 00:05:14\n",
      "2021-08-16 00:53:13 [INFO]\t[TRAIN] epoch: 10, iter: 550/1000, loss: 0.3309, lr: 0.004884, batch_cost: 0.7757, reader_cost: 0.00010, ips: 10.3139 samples/sec | ETA 00:05:49\n",
      "2021-08-16 00:53:21 [INFO]\t[TRAIN] epoch: 11, iter: 560/1000, loss: 0.2960, lr: 0.004786, batch_cost: 0.7655, reader_cost: 0.00406, ips: 10.4505 samples/sec | ETA 00:05:36\n",
      "2021-08-16 00:53:37 [INFO]\t[TRAIN] epoch: 11, iter: 570/1000, loss: 0.3172, lr: 0.004688, batch_cost: 1.6543, reader_cost: 0.00017, ips: 4.8359 samples/sec | ETA 00:11:51\n",
      "2021-08-16 00:54:09 [INFO]\t[TRAIN] epoch: 11, iter: 580/1000, loss: 0.3232, lr: 0.004590, batch_cost: 3.1535, reader_cost: 0.00067, ips: 2.5369 samples/sec | ETA 00:22:04\n",
      "2021-08-16 00:57:05 [INFO]\t[TRAIN] epoch: 11, iter: 590/1000, loss: 0.3199, lr: 0.004492, batch_cost: 17.5547, reader_cost: 0.01571, ips: 0.4557 samples/sec | ETA 01:59:57\n",
      "2021-08-16 00:57:27 [INFO]\t[TRAIN] epoch: 11, iter: 600/1000, loss: 0.3223, lr: 0.004394, batch_cost: 2.2254, reader_cost: 0.00066, ips: 3.5949 samples/sec | ETA 00:14:50\n",
      "2021-08-16 00:57:27 [INFO]\tStart evaluating (total_samples: 50, total_iters: 50)...\n"
     ]
    },
    {
     "name": "stderr",
     "output_type": "stream",
     "text": [
      "50/50 [==============================] - 9s 176ms/step - batch_cost: 0.1713 - reader cost: 0.0052\n"
     ]
    },
    {
     "name": "stdout",
     "output_type": "stream",
     "text": [
      "2021-08-16 00:57:36 [INFO]\t[EVAL] #Images: 50 mIoU: 0.8839 Acc: 0.9705 Kappa: 0.8729 \n",
      "2021-08-16 00:57:36 [INFO]\t[EVAL] Class IoU: \n",
      "[0.9665 0.8014]\n",
      "2021-08-16 00:57:36 [INFO]\t[EVAL] Class Acc: \n",
      "[0.9682 0.9873]\n",
      "2021-08-16 00:57:36 [INFO]\t[EVAL] The model with the best validation mIoU (0.9129) was saved at iter 500.\n",
      "2021-08-16 00:57:49 [INFO]\t[TRAIN] epoch: 12, iter: 610/1000, loss: 0.3294, lr: 0.004295, batch_cost: 1.3112, reader_cost: 0.00988, ips: 6.1015 samples/sec | ETA 00:08:31\n",
      "2021-08-16 00:58:04 [INFO]\t[TRAIN] epoch: 12, iter: 620/1000, loss: 0.3224, lr: 0.004196, batch_cost: 1.4960, reader_cost: 0.00080, ips: 5.3476 samples/sec | ETA 00:09:28\n",
      "2021-08-16 00:58:15 [INFO]\t[TRAIN] epoch: 12, iter: 630/1000, loss: 0.3119, lr: 0.004097, batch_cost: 1.0482, reader_cost: 0.00017, ips: 7.6321 samples/sec | ETA 00:06:27\n",
      "2021-08-16 00:58:26 [INFO]\t[TRAIN] epoch: 12, iter: 640/1000, loss: 0.3141, lr: 0.003997, batch_cost: 1.0893, reader_cost: 0.00024, ips: 7.3441 samples/sec | ETA 00:06:32\n",
      "2021-08-16 00:58:36 [INFO]\t[TRAIN] epoch: 12, iter: 650/1000, loss: 0.3198, lr: 0.003897, batch_cost: 0.9884, reader_cost: 0.00023, ips: 8.0940 samples/sec | ETA 00:05:45\n",
      "2021-08-16 00:58:46 [INFO]\t[TRAIN] epoch: 12, iter: 660/1000, loss: 0.3028, lr: 0.003797, batch_cost: 0.9982, reader_cost: 0.00017, ips: 8.0144 samples/sec | ETA 00:05:39\n",
      "2021-08-16 00:58:55 [INFO]\t[TRAIN] epoch: 13, iter: 670/1000, loss: 0.3137, lr: 0.003697, batch_cost: 0.8941, reader_cost: 0.00714, ips: 8.9476 samples/sec | ETA 00:04:55\n",
      "2021-08-16 00:59:06 [INFO]\t[TRAIN] epoch: 13, iter: 680/1000, loss: 0.3190, lr: 0.003596, batch_cost: 1.0929, reader_cost: 0.00053, ips: 7.3201 samples/sec | ETA 00:05:49\n",
      "2021-08-16 00:59:15 [INFO]\t[TRAIN] epoch: 13, iter: 690/1000, loss: 0.3043, lr: 0.003495, batch_cost: 0.9293, reader_cost: 0.00025, ips: 8.6089 samples/sec | ETA 00:04:48\n",
      "2021-08-16 00:59:24 [INFO]\t[TRAIN] epoch: 13, iter: 700/1000, loss: 0.3119, lr: 0.003394, batch_cost: 0.9075, reader_cost: 0.00010, ips: 8.8155 samples/sec | ETA 00:04:32\n",
      "2021-08-16 00:59:24 [INFO]\tStart evaluating (total_samples: 50, total_iters: 50)...\n"
     ]
    },
    {
     "name": "stderr",
     "output_type": "stream",
     "text": [
      "50/50 [==============================] - 5s 96ms/step - batch_cost: 0.0937 - reader cost: 0.0010\n"
     ]
    },
    {
     "name": "stdout",
     "output_type": "stream",
     "text": [
      "2021-08-16 00:59:29 [INFO]\t[EVAL] #Images: 50 mIoU: 0.9065 Acc: 0.9761 Kappa: 0.8995 \n",
      "2021-08-16 00:59:29 [INFO]\t[EVAL] Class IoU: \n",
      "[0.9726 0.8404]\n",
      "2021-08-16 00:59:29 [INFO]\t[EVAL] Class Acc: \n",
      "[0.9758 0.978 ]\n",
      "2021-08-16 00:59:29 [INFO]\t[EVAL] The model with the best validation mIoU (0.9129) was saved at iter 500.\n",
      "2021-08-16 00:59:39 [INFO]\t[TRAIN] epoch: 13, iter: 710/1000, loss: 0.2862, lr: 0.003292, batch_cost: 1.0276, reader_cost: 0.00011, ips: 7.7853 samples/sec | ETA 00:04:57\n",
      "2021-08-16 00:59:49 [INFO]\t[TRAIN] epoch: 14, iter: 720/1000, loss: 0.3252, lr: 0.003190, batch_cost: 0.9121, reader_cost: 0.00673, ips: 8.7708 samples/sec | ETA 00:04:15\n",
      "2021-08-16 00:59:59 [INFO]\t[TRAIN] epoch: 14, iter: 730/1000, loss: 0.3197, lr: 0.003088, batch_cost: 1.0602, reader_cost: 0.00024, ips: 7.5460 samples/sec | ETA 00:04:46\n",
      "2021-08-16 01:00:08 [INFO]\t[TRAIN] epoch: 14, iter: 740/1000, loss: 0.3048, lr: 0.002985, batch_cost: 0.8847, reader_cost: 0.00010, ips: 9.0428 samples/sec | ETA 00:03:50\n",
      "2021-08-16 01:00:18 [INFO]\t[TRAIN] epoch: 14, iter: 750/1000, loss: 0.2877, lr: 0.002882, batch_cost: 0.9924, reader_cost: 0.00017, ips: 8.0614 samples/sec | ETA 00:04:08\n",
      "2021-08-16 01:00:28 [INFO]\t[TRAIN] epoch: 14, iter: 760/1000, loss: 0.3005, lr: 0.002779, batch_cost: 0.9896, reader_cost: 0.00011, ips: 8.0837 samples/sec | ETA 00:03:57\n",
      "2021-08-16 01:00:41 [INFO]\t[TRAIN] epoch: 14, iter: 770/1000, loss: 0.3019, lr: 0.002675, batch_cost: 1.3329, reader_cost: 0.00147, ips: 6.0018 samples/sec | ETA 00:05:06\n",
      "2021-08-16 01:00:53 [INFO]\t[TRAIN] epoch: 15, iter: 780/1000, loss: 0.3092, lr: 0.002570, batch_cost: 1.1336, reader_cost: 0.01018, ips: 7.0574 samples/sec | ETA 00:04:09\n",
      "2021-08-16 01:01:04 [INFO]\t[TRAIN] epoch: 15, iter: 790/1000, loss: 0.3069, lr: 0.002465, batch_cost: 1.0746, reader_cost: 0.00012, ips: 7.4444 samples/sec | ETA 00:03:45\n",
      "2021-08-16 01:01:13 [INFO]\t[TRAIN] epoch: 15, iter: 800/1000, loss: 0.2911, lr: 0.002360, batch_cost: 0.9947, reader_cost: 0.00040, ips: 8.0425 samples/sec | ETA 00:03:18\n",
      "2021-08-16 01:01:14 [INFO]\tStart evaluating (total_samples: 50, total_iters: 50)...\n"
     ]
    },
    {
     "name": "stderr",
     "output_type": "stream",
     "text": [
      "50/50 [==============================] - 5s 94ms/step - batch_cost: 0.0919 - reader cost: 7.2019e-04\n"
     ]
    },
    {
     "name": "stdout",
     "output_type": "stream",
     "text": [
      "2021-08-16 01:01:18 [INFO]\t[EVAL] #Images: 50 mIoU: 0.8908 Acc: 0.9722 Kappa: 0.8811 \n",
      "2021-08-16 01:01:18 [INFO]\t[EVAL] Class IoU: \n",
      "[0.9684 0.8131]\n",
      "2021-08-16 01:01:18 [INFO]\t[EVAL] Class Acc: \n",
      "[0.9701 0.988 ]\n",
      "2021-08-16 01:01:18 [INFO]\t[EVAL] The model with the best validation mIoU (0.9129) was saved at iter 500.\n",
      "2021-08-16 01:01:29 [INFO]\t[TRAIN] epoch: 15, iter: 810/1000, loss: 0.3024, lr: 0.002254, batch_cost: 1.0184, reader_cost: 0.00015, ips: 7.8557 samples/sec | ETA 00:03:13\n",
      "2021-08-16 01:01:38 [INFO]\t[TRAIN] epoch: 15, iter: 820/1000, loss: 0.2878, lr: 0.002147, batch_cost: 0.9924, reader_cost: 0.00012, ips: 8.0610 samples/sec | ETA 00:02:58\n",
      "2021-08-16 01:01:49 [INFO]\t[TRAIN] epoch: 16, iter: 830/1000, loss: 0.3210, lr: 0.002040, batch_cost: 1.0965, reader_cost: 0.00499, ips: 7.2958 samples/sec | ETA 00:03:06\n",
      "2021-08-16 01:01:59 [INFO]\t[TRAIN] epoch: 16, iter: 840/1000, loss: 0.2955, lr: 0.001933, batch_cost: 0.9765, reader_cost: 0.00015, ips: 8.1927 samples/sec | ETA 00:02:36\n",
      "2021-08-16 01:02:11 [INFO]\t[TRAIN] epoch: 16, iter: 850/1000, loss: 0.2834, lr: 0.001824, batch_cost: 1.1435, reader_cost: 0.00016, ips: 6.9963 samples/sec | ETA 00:02:51\n",
      "2021-08-16 01:02:25 [INFO]\t[TRAIN] epoch: 16, iter: 860/1000, loss: 0.2966, lr: 0.001715, batch_cost: 1.4599, reader_cost: 0.00037, ips: 5.4798 samples/sec | ETA 00:03:24\n",
      "2021-08-16 01:02:37 [INFO]\t[TRAIN] epoch: 16, iter: 870/1000, loss: 0.3083, lr: 0.001605, batch_cost: 1.1505, reader_cost: 0.00107, ips: 6.9535 samples/sec | ETA 00:02:29\n",
      "2021-08-16 01:02:47 [INFO]\t[TRAIN] epoch: 16, iter: 880/1000, loss: 0.3031, lr: 0.001495, batch_cost: 1.0521, reader_cost: 0.00065, ips: 7.6037 samples/sec | ETA 00:02:06\n",
      "2021-08-16 01:02:56 [INFO]\t[TRAIN] epoch: 17, iter: 890/1000, loss: 0.2817, lr: 0.001383, batch_cost: 0.8816, reader_cost: 0.01255, ips: 9.0742 samples/sec | ETA 00:01:36\n",
      "2021-08-16 01:03:05 [INFO]\t[TRAIN] epoch: 17, iter: 900/1000, loss: 0.2859, lr: 0.001270, batch_cost: 0.8680, reader_cost: 0.00009, ips: 9.2161 samples/sec | ETA 00:01:26\n",
      "2021-08-16 01:03:05 [INFO]\tStart evaluating (total_samples: 50, total_iters: 50)...\n"
     ]
    },
    {
     "name": "stderr",
     "output_type": "stream",
     "text": [
      "50/50 [==============================] - 4s 77ms/step - batch_cost: 0.0758 - reader cost: 6.3861e-04: 1s - batch_cost: 0.0756 - reader c\n"
     ]
    },
    {
     "name": "stdout",
     "output_type": "stream",
     "text": [
      "2021-08-16 01:03:09 [INFO]\t[EVAL] #Images: 50 mIoU: 0.8958 Acc: 0.9735 Kappa: 0.8870 \n",
      "2021-08-16 01:03:09 [INFO]\t[EVAL] Class IoU: \n",
      "[0.9698 0.8218]\n",
      "2021-08-16 01:03:09 [INFO]\t[EVAL] Class Acc: \n",
      "[0.9717 0.986 ]\n",
      "2021-08-16 01:03:09 [INFO]\t[EVAL] The model with the best validation mIoU (0.9129) was saved at iter 500.\n",
      "2021-08-16 01:03:17 [INFO]\t[TRAIN] epoch: 17, iter: 910/1000, loss: 0.3187, lr: 0.001156, batch_cost: 0.8549, reader_cost: 0.00010, ips: 9.3576 samples/sec | ETA 00:01:16\n",
      "2021-08-16 01:03:26 [INFO]\t[TRAIN] epoch: 17, iter: 920/1000, loss: 0.3101, lr: 0.001041, batch_cost: 0.8414, reader_cost: 0.00010, ips: 9.5076 samples/sec | ETA 00:01:07\n",
      "2021-08-16 01:03:34 [INFO]\t[TRAIN] epoch: 17, iter: 930/1000, loss: 0.2853, lr: 0.000925, batch_cost: 0.8445, reader_cost: 0.00012, ips: 9.4726 samples/sec | ETA 00:00:59\n",
      "2021-08-16 01:03:43 [INFO]\t[TRAIN] epoch: 18, iter: 940/1000, loss: 0.3070, lr: 0.000807, batch_cost: 0.8722, reader_cost: 0.00462, ips: 9.1726 samples/sec | ETA 00:00:52\n",
      "2021-08-16 01:03:52 [INFO]\t[TRAIN] epoch: 18, iter: 950/1000, loss: 0.2979, lr: 0.000687, batch_cost: 0.9520, reader_cost: 0.00012, ips: 8.4036 samples/sec | ETA 00:00:47\n",
      "2021-08-16 01:04:03 [INFO]\t[TRAIN] epoch: 18, iter: 960/1000, loss: 0.3036, lr: 0.000564, batch_cost: 1.0596, reader_cost: 0.00013, ips: 7.5503 samples/sec | ETA 00:00:42\n",
      "2021-08-16 01:04:12 [INFO]\t[TRAIN] epoch: 18, iter: 970/1000, loss: 0.2957, lr: 0.000439, batch_cost: 0.8770, reader_cost: 0.00016, ips: 9.1219 samples/sec | ETA 00:00:26\n",
      "2021-08-16 01:04:20 [INFO]\t[TRAIN] epoch: 18, iter: 980/1000, loss: 0.2817, lr: 0.000309, batch_cost: 0.8454, reader_cost: 0.00011, ips: 9.4634 samples/sec | ETA 00:00:16\n",
      "2021-08-16 01:04:29 [INFO]\t[TRAIN] epoch: 18, iter: 990/1000, loss: 0.2928, lr: 0.000173, batch_cost: 0.8257, reader_cost: 0.00009, ips: 9.6887 samples/sec | ETA 00:00:08\n",
      "2021-08-16 01:04:37 [INFO]\t[TRAIN] epoch: 19, iter: 1000/1000, loss: 0.2680, lr: 0.000020, batch_cost: 0.8338, reader_cost: 0.00886, ips: 9.5949 samples/sec | ETA 00:00:00\n",
      "2021-08-16 01:04:37 [INFO]\tStart evaluating (total_samples: 50, total_iters: 50)...\n"
     ]
    },
    {
     "name": "stderr",
     "output_type": "stream",
     "text": [
      "50/50 [==============================] - 4s 75ms/step - batch_cost: 0.0736 - reader cost: 4.4107e-04: 2s - batch_c\n"
     ]
    },
    {
     "name": "stdout",
     "output_type": "stream",
     "text": [
      "2021-08-16 01:04:41 [INFO]\t[EVAL] #Images: 50 mIoU: 0.9013 Acc: 0.9748 Kappa: 0.8934 \n",
      "2021-08-16 01:04:41 [INFO]\t[EVAL] Class IoU: \n",
      "[0.9713 0.8312]\n",
      "2021-08-16 01:04:41 [INFO]\t[EVAL] Class Acc: \n",
      "[0.9735 0.9843]\n",
      "2021-08-16 01:04:41 [INFO]\t[EVAL] The model with the best validation mIoU (0.9129) was saved at iter 500.\n",
      "<class 'paddle.nn.layer.conv.Conv2D'>'s flops has been counted\n",
      "<class 'paddle.nn.layer.norm.BatchNorm2D'>'s flops has been counted\n",
      "Cannot find suitable count function for <class 'paddle.nn.layer.pooling.MaxPool2D'>. Treat it as zero FLOPs.\n",
      "<class 'paddle.nn.layer.pooling.AdaptiveAvgPool2D'>'s flops has been counted\n",
      "<class 'paddle.nn.layer.pooling.AvgPool2D'>'s flops has been counted\n",
      "Cannot find suitable count function for <class 'paddle.nn.layer.activation.Sigmoid'>. Treat it as zero FLOPs.\n",
      "<class 'paddle.nn.layer.common.Dropout'>'s flops has been counted\n",
      "Total Flops: 326522850     Total Params: 2328346\n"
     ]
    }
   ],
   "source": [
    "train(\n",
    "    model=model,\n",
    "    train_dataset=train_dataset,\n",
    "    val_dataset=val_dataset,\n",
    "    optimizer=optimizer,\n",
    "    save_dir='output',\n",
    "    iters=1000,\n",
    "    batch_size=8,\n",
    "    save_interval=100,\n",
    "    log_iters=10,\n",
    "    num_workers=0,\n",
    "    losses=losses,\n",
    "    use_vdl=True)"
   ]
  },
  {
   "cell_type": "markdown",
   "metadata": {},
   "source": [
    "# 模型评估"
   ]
  },
  {
   "cell_type": "markdown",
   "metadata": {},
   "source": [
    "## 6. 构建模型"
   ]
  },
  {
   "cell_type": "code",
   "execution_count": 63,
   "metadata": {},
   "outputs": [],
   "source": [
    "from paddleseg.models import BiSeNetV2\n",
    "model = BiSeNetV2(num_classes=2,\n",
    "                 lambd=0.25,\n",
    "                 align_corners=False,\n",
    "                 pretrained=None)"
   ]
  },
  {
   "cell_type": "markdown",
   "metadata": {},
   "source": [
    "## 7. 加载模型参数"
   ]
  },
  {
   "cell_type": "code",
   "execution_count": 64,
   "metadata": {},
   "outputs": [
    {
     "name": "stdout",
     "output_type": "stream",
     "text": [
      "Loaded trained params of model successfully\n"
     ]
    }
   ],
   "source": [
    "model_path = 'output/best_model/model.pdparams'\n",
    "if model_path:\n",
    "    para_state_dict = paddle.load(model_path)\n",
    "    model.set_dict(para_state_dict)\n",
    "    print('Loaded trained params of model successfully')\n",
    "else: \n",
    "    raise ValueError('The model_path is wrong: {}'.format(model_path))"
   ]
  },
  {
   "cell_type": "markdown",
   "metadata": {},
   "source": [
    "## 8. 构建验证集"
   ]
  },
  {
   "cell_type": "code",
   "execution_count": 65,
   "metadata": {},
   "outputs": [],
   "source": [
    "# 构建验证用的transforms\n",
    "transforms = [\n",
    "    T.Resize(target_size=(100, 100)),\n",
    "    T.Normalize()\n",
    "]\n",
    "\n",
    "# 构建验证集\n",
    "from paddleseg.datasets import OpticDiscSeg\n",
    "val_dataset = OpticDiscSeg(\n",
    "    dataset_root='data/outputs',\n",
    "    transforms=transforms,\n",
    "    mode='val'\n",
    ")"
   ]
  },
  {
   "cell_type": "markdown",
   "metadata": {},
   "source": [
    "## 9. 评估"
   ]
  },
  {
   "cell_type": "code",
   "execution_count": 66,
   "metadata": {},
   "outputs": [
    {
     "name": "stdout",
     "output_type": "stream",
     "text": [
      "2021-08-16 01:04:43 [INFO]\tStart evaluating (total_samples: 50, total_iters: 50)...\n"
     ]
    },
    {
     "name": "stderr",
     "output_type": "stream",
     "text": [
      "50/50 [==============================] - 4s 78ms/step - batch_cost: 0.0769 - reader cost: 5.0431e-04\n"
     ]
    },
    {
     "name": "stdout",
     "output_type": "stream",
     "text": [
      "2021-08-16 01:04:46 [INFO]\t[EVAL] #Images: 50 mIoU: 0.9129 Acc: 0.9774 Kappa: 0.9068 \n",
      "2021-08-16 01:04:46 [INFO]\t[EVAL] Class IoU: \n",
      "[0.9741 0.8517]\n",
      "2021-08-16 01:04:46 [INFO]\t[EVAL] Class Acc: \n",
      "[0.9798 0.9625]\n"
     ]
    },
    {
     "data": {
      "text/plain": [
       "(0.91287243,\n",
       " 0.9774376,\n",
       " array([0.97407985, 0.85166496], dtype=float32),\n",
       " array([0.9797629, 0.9624861], dtype=float32),\n",
       " 0.9067907145789128)"
      ]
     },
     "execution_count": 66,
     "metadata": {},
     "output_type": "execute_result"
    }
   ],
   "source": [
    "from paddleseg.core import evaluate\n",
    "evaluate(\n",
    "        model,\n",
    "        val_dataset)"
   ]
  },
  {
   "cell_type": "markdown",
   "metadata": {},
   "source": [
    "## 10. 多尺度+翻转评估"
   ]
  },
  {
   "cell_type": "code",
   "execution_count": 67,
   "metadata": {},
   "outputs": [
    {
     "name": "stdout",
     "output_type": "stream",
     "text": [
      "2021-08-16 01:04:46 [INFO]\tStart evaluating (total_samples: 50, total_iters: 50)...\n"
     ]
    },
    {
     "name": "stderr",
     "output_type": "stream",
     "text": [
      "50/50 [==============================] - 21s 418ms/step - batch_cost: 0.4172 - reader cost: 4.3775e-04\n"
     ]
    },
    {
     "name": "stdout",
     "output_type": "stream",
     "text": [
      "2021-08-16 01:05:07 [INFO]\t[EVAL] #Images: 50 mIoU: 0.9235 Acc: 0.9794 Kappa: 0.9189 \n",
      "2021-08-16 01:05:07 [INFO]\t[EVAL] Class IoU: \n",
      "[0.9761 0.8709]\n",
      "2021-08-16 01:05:07 [INFO]\t[EVAL] Class Acc: \n",
      "[0.9901 0.9194]\n"
     ]
    },
    {
     "data": {
      "text/plain": [
       "(0.9235278,\n",
       " 0.9794493,\n",
       " array([0.9761412 , 0.87091434], dtype=float32),\n",
       " array([0.99010384, 0.91944945], dtype=float32),\n",
       " 0.9189327595036235)"
      ]
     },
     "execution_count": 67,
     "metadata": {},
     "output_type": "execute_result"
    }
   ],
   "source": [
    "evaluate(\n",
    "        model,\n",
    "        val_dataset,\n",
    "        aug_eval=True,\n",
    "        scales=[0.75, 1.0, 1.25],\n",
    "        flip_horizontal=True)"
   ]
  },
  {
   "cell_type": "markdown",
   "metadata": {},
   "source": [
    "# 效果可视化"
   ]
  },
  {
   "cell_type": "markdown",
   "metadata": {},
   "source": [
    "## 11. 构建模型"
   ]
  },
  {
   "cell_type": "code",
   "execution_count": 68,
   "metadata": {},
   "outputs": [],
   "source": [
    "model = BiSeNetV2(num_classes=2,\n",
    "                 lambd=0.25,\n",
    "                 align_corners=False,\n",
    "                 pretrained=None)"
   ]
  },
  {
   "cell_type": "markdown",
   "metadata": {},
   "source": [
    "## 12. 创建transform"
   ]
  },
  {
   "cell_type": "code",
   "execution_count": 69,
   "metadata": {},
   "outputs": [],
   "source": [
    "transforms = T.Compose([\n",
    "    T.Resize(target_size=(512, 512)),\n",
    "    T.RandomHorizontalFlip(),\n",
    "    T.Normalize()\n",
    "])"
   ]
  },
  {
   "cell_type": "markdown",
   "metadata": {},
   "source": [
    "## 13. 构建待预测的图像列表"
   ]
  },
  {
   "cell_type": "code",
   "execution_count": 70,
   "metadata": {},
   "outputs": [],
   "source": [
    "def get_image_list(image_path):\n",
    "    \"\"\"Get image list\"\"\"\n",
    "    valid_suffix = [\n",
    "        '.JPEG', '.jpeg', '.JPG', '.jpg', '.BMP', '.bmp', '.PNG', '.png'\n",
    "    ]\n",
    "    image_list = []\n",
    "    image_dir = None\n",
    "    if os.path.isfile(image_path):\n",
    "        if os.path.splitext(image_path)[-1] in valid_suffix:\n",
    "            image_list.append(image_path)\n",
    "    elif os.path.isdir(image_path):\n",
    "        image_dir = image_path\n",
    "        for root, dirs, files in os.walk(image_path):\n",
    "            for f in files:\n",
    "                if os.path.splitext(f)[-1] in valid_suffix:\n",
    "                    image_list.append(os.path.join(root, f))\n",
    "    else:\n",
    "        raise FileNotFoundError(\n",
    "            '`--image_path` is not found. it should be an image file or a directory including images'\n",
    "        )\n",
    "\n",
    "    if len(image_list) == 0:\n",
    "        raise RuntimeError('There are not image file in `--image_path`')\n",
    "\n",
    "    return image_list, image_dir\n",
    "image_path = 'data/outputs/JPEGImages/nail501.png' # 也可以输入一个包含图像的目录\n",
    "image_list, image_dir = get_image_list(image_path)\n"
   ]
  },
  {
   "cell_type": "markdown",
   "metadata": {},
   "source": [
    "## 14. 预测"
   ]
  },
  {
   "cell_type": "code",
   "execution_count": 71,
   "metadata": {},
   "outputs": [
    {
     "name": "stdout",
     "output_type": "stream",
     "text": [
      "2021-08-16 01:05:08 [INFO]\tLoading pretrained model from output/best_model/model.pdparams\n",
      "2021-08-16 01:05:08 [INFO]\tThere are 356/356 variables loaded into BiSeNetV2.\n",
      "2021-08-16 01:05:08 [INFO]\tStart to predict...\n"
     ]
    },
    {
     "name": "stderr",
     "output_type": "stream",
     "text": [
      "1/1 [==============================] - 1s 728ms/step\n"
     ]
    }
   ],
   "source": [
    "from paddleseg.core import predict\n",
    "predict(\n",
    "        model,\n",
    "        model_path='output/best_model/model.pdparams',\n",
    "        transforms=transforms,\n",
    "        image_list=image_list,\n",
    "        image_dir=image_dir,\n",
    "        save_dir='output/results'\n",
    "    )"
   ]
  },
  {
   "cell_type": "code",
   "execution_count": null,
   "metadata": {},
   "outputs": [],
   "source": []
  },
  {
   "cell_type": "code",
   "execution_count": null,
   "metadata": {},
   "outputs": [],
   "source": []
  }
 ],
 "metadata": {
  "kernelspec": {
   "display_name": "Python [conda env:paddle]",
   "language": "python",
   "name": "conda-env-paddle-py"
  },
  "language_info": {
   "codemirror_mode": {
    "name": "ipython",
    "version": 3
   },
   "file_extension": ".py",
   "mimetype": "text/x-python",
   "name": "python",
   "nbconvert_exporter": "python",
   "pygments_lexer": "ipython3",
   "version": "3.8.10"
  }
 },
 "nbformat": 4,
 "nbformat_minor": 2
}
